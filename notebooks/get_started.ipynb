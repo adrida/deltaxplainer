{
  "cells": [
    {
      "cell_type": "markdown",
      "metadata": {
        "id": "MgF58G__woEz"
      },
      "source": [
        "# Get Started with DeltaXplainer\n",
        "\n",
        "In this notebook, the goal will be to show you how to quickly setup and use the deltaxplainer library.\n",
        "\n",
        "[![Open In Colab](https://colab.research.google.com/assets/colab-badge.svg)](https://colab.research.google.com/github/adrida/deltaxplainer/blob/master/notebooks/get_started.ipynb)\n",
        "\n",
        "\n",
        "### First make sure deltaxplainer is installed"
      ]
    },
    {
      "cell_type": "code",
      "execution_count": null,
      "metadata": {
        "colab": {
          "base_uri": "https://localhost:8080/"
        },
        "id": "G-3oZQVCw7PD",
        "outputId": "a0bd48b7-f4bf-4978-f809-6689e494e19b"
      },
      "outputs": [],
      "source": [
        "!pip install deltaxplainer"
      ]
    },
    {
      "cell_type": "markdown",
      "metadata": {
        "id": "wS0wbsIfw-dz"
      },
      "source": [
        "## Toy example\n",
        "\n",
        "In this section we will build two models F and G on the half moon dataset. The models are different but they are trained in the same data. Two plots are added to help visualize the differences"
      ]
    },
    {
      "cell_type": "code",
      "execution_count": null,
      "metadata": {
        "colab": {
          "base_uri": "https://localhost:8080/",
          "height": 972
        },
        "id": "b3dP-q7HAcOg",
        "outputId": "74c41f0d-b551-42b2-80b5-5b1ce0aec887"
      },
      "outputs": [],
      "source": [
        "import numpy as np\n",
        "import pandas as pd\n",
        "import matplotlib.pyplot as plt\n",
        "from sklearn.datasets import make_moons\n",
        "from sklearn.tree import DecisionTreeClassifier\n",
        "from sklearn.metrics import classification_report\n",
        "from sklearn.ensemble import RandomForestClassifier\n",
        "\n",
        "# Generate two moons-like datasets\n",
        "X, y = make_moons(n_samples=250, noise=0.1, random_state=1, shuffle=True)\n",
        "\n",
        "# Train two different models\n",
        "model_f = DecisionTreeClassifier(max_depth=3, random_state=42)\n",
        "model_g = RandomForestClassifier(n_estimators=50, random_state=0)\n",
        "model_f.fit(X, y)\n",
        "model_g.fit(X, y)\n",
        "\n",
        "# Concatenate the datasets\n",
        "X_delta = X\n",
        "y_delta_f = model_f.predict(X_delta)\n",
        "y_delta_g = model_g.predict(X_delta)\n",
        "\n",
        "disagreement_mask = y_delta_f != y_delta_g\n",
        "\n",
        "report_f = classification_report(y_delta_f, y)\n",
        "report_g = classification_report(y_delta_g, y)\n",
        "\n",
        "# Decision Boundary for Model F and Model G with original labels\n",
        "fig, axs = plt.subplots(1, 2, figsize=(15, 6))\n",
        "\n",
        "# Decision Boundary for Model F\n",
        "x_min, x_max = X_delta[:, 0].min() - 1, X_delta[:, 0].max() + 1\n",
        "y_min, y_max = X_delta[:, 1].min() - 1, X_delta[:, 1].max() + 1\n",
        "xx, yy = np.meshgrid(np.arange(x_min, x_max, 0.01), np.arange(y_min, y_max, 0.01))\n",
        "Z_f = model_f.predict(np.c_[xx.ravel(), yy.ravel()])\n",
        "Z_f = Z_f.reshape(xx.shape)\n",
        "axs[0].contour(xx, yy, Z_f, levels=[0.5], colors='skyblue', linewidths=4)\n",
        "\n",
        "# Decision Boundary for Model G\n",
        "Z_g = model_g.predict(np.c_[xx.ravel(), yy.ravel()])\n",
        "Z_g = Z_g.reshape(xx.shape)\n",
        "axs[0].contour(xx, yy, Z_g, levels=[0.5], colors='mediumseagreen', linewidths=2)\n",
        "\n",
        "# Scatter plot for original labels\n",
        "scatter_class_0 = axs[0].scatter(X_delta[y == 0, 0], X_delta[y == 0, 1], c='skyblue', label='Class 0', marker='o')\n",
        "scatter_class_1 = axs[0].scatter(X_delta[y == 1, 0], X_delta[y == 1, 1], c='salmon', label='Class 1', marker='o')\n",
        "\n",
        "axs[0].set_title('Decision Boundaries with Original Labels')\n",
        "axs[0].set_xlabel('X axis')\n",
        "axs[0].set_ylabel('Y axis')\n",
        "\n",
        "# Combine the scatter plots in a single legend\n",
        "axs[0].legend(handles=[scatter_class_0, scatter_class_1, plt.Line2D([], [], color='skyblue', markerfacecolor='none', marker='none', label='Model F'), plt.Line2D([], [], color='mediumseagreen', markerfacecolor='none', marker='none', label='Model G')])\n",
        "\n",
        "\n",
        "# Decision Boundary for Model F and Model G with disagreements\n",
        "# Decision Boundary for Model F\n",
        "axs[1].contour(xx, yy, Z_f, levels=[0.5], colors='skyblue', linewidths=4)\n",
        "\n",
        "# Decision Boundary for Model G\n",
        "axs[1].contour(xx, yy, Z_g, levels=[0.5], colors='mediumseagreen', linewidths=2)\n",
        "\n",
        "# Scatter plot for disagreements\n",
        "sc1 = axs[1].scatter(X_delta[disagreement_mask][:, 0], X_delta[disagreement_mask][:, 1], c='orange', marker='s', label='Disagreeing sample')\n",
        "sc2 = axs[1].scatter(X_delta[~disagreement_mask][:, 0], X_delta[~disagreement_mask][:, 1], c='thistle', marker='o', label='Agreeing sample')\n",
        "\n",
        "\n",
        "axs[1].set_title('Decision Boundaries and Disagreements between Models F and G')\n",
        "axs[1].set_xlabel('X axis')\n",
        "axs[1].set_ylabel('Y axis')\n",
        "axs[1].legend()\n",
        "axs[1].legend(handles=[sc1, sc2, plt.Line2D([], [], color='skyblue', markerfacecolor='none', marker='none', label='Model F'), plt.Line2D([], [], color='mediumseagreen', markerfacecolor='none', marker='none', label='Model G')])\n",
        "\n",
        "\n",
        "plt.tight_layout()\n",
        "plt.show()\n",
        "print(f'Model F:\\n{report_f}\\n\\nModel G:\\n{report_g}')"
      ]
    },
    {
      "cell_type": "markdown",
      "metadata": {
        "id": "2R8cv0kuxVir"
      },
      "source": [
        "## Generating explanations"
      ]
    },
    {
      "cell_type": "code",
      "execution_count": null,
      "metadata": {
        "id": "HFhw34UHBxpT"
      },
      "outputs": [],
      "source": [
        "from deltaxplainer import DeltaXplainer\n",
        "X = pd.DataFrame(X)\n",
        "delta_model = DeltaXplainer().fit(X, model_f, model_g)\n"
      ]
    },
    {
      "cell_type": "code",
      "execution_count": null,
      "metadata": {},
      "outputs": [],
      "source": [
        "print(f\"Model differs for the following {len(delta_model.segments)} segments: \")\n",
        "i = 1\n",
        "for segment in delta_model.segments:\n",
        "    print(segment.replace(\"if \", f\"Segment {i}:  \").replace(\"(\",\"\").replace(\")\",\"\").replace(\" then class: 1 \", \" | \").replace(\" 1 \", \" Feature 1 \").replace(\" 0 \", \" Feature 0 \"))\n",
        "    i += 1\n",
        "    "
      ]
    },
    {
      "cell_type": "code",
      "execution_count": null,
      "metadata": {},
      "outputs": [],
      "source": []
    }
  ],
  "metadata": {
    "colab": {
      "provenance": []
    },
    "kernelspec": {
      "display_name": "Python 3",
      "name": "python3"
    },
    "language_info": {
      "codemirror_mode": {
        "name": "ipython",
        "version": 3
      },
      "file_extension": ".py",
      "mimetype": "text/x-python",
      "name": "python",
      "nbconvert_exporter": "python",
      "pygments_lexer": "ipython3",
      "version": "3.8.11"
    }
  },
  "nbformat": 4,
  "nbformat_minor": 0
}
